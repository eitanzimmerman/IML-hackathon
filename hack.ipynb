{
 "cells": [
  {
   "cell_type": "code",
   "execution_count": 29,
   "metadata": {},
   "outputs": [],
   "source": [
    "import pandas as pd\n",
    "import matplotlib.pyplot as plt\n",
    "import seaborn as sns\n",
    "import numpy as np\n",
    "from datetime import datetime"
   ]
  },
  {
   "cell_type": "code",
   "execution_count": 253,
   "metadata": {},
   "outputs": [],
   "source": [
    "train = pd.read_csv(\"train.csv\", index_col=0)\n",
    "pd.set_option('display.max_columns' ,None)"
   ]
  },
  {
   "cell_type": "markdown",
   "metadata": {},
   "source": [
    "## PreProcessing"
   ]
  },
  {
   "cell_type": "code",
   "execution_count": 260,
   "metadata": {},
   "outputs": [],
   "source": [
    "def run_preprocess(df):\n",
    "    df_1 = (df.pipe(start_pipe)\n",
    "           .pipe(create_weekday_column)\n",
    "           .pipe(create_time_bins)\n",
    "           .pipe(create_description_bins)\n",
    "           .pipe(create_beat_bins)\n",
    "          .pipe(change_cols_to_binary,[\"Arrest\", \"Domestic\"])\n",
    "          .pipe(drop_columns))\n",
    "    return df_1"
   ]
  },
  {
   "cell_type": "code",
   "execution_count": 222,
   "metadata": {},
   "outputs": [],
   "source": [
    "def start_pipe(df):\n",
    "    return df.copy()"
   ]
  },
  {
   "cell_type": "code",
   "execution_count": 236,
   "metadata": {},
   "outputs": [],
   "source": [
    "def create_weekday_column(df):\n",
    "    df[\"Weekday\"] = df[\"Date\"].apply(lambda d: datetime.strptime(d.split(\" \")[0], \"%m/%d/%Y\").strftime('%A'))\n",
    "    df = df.join(pd.get_dummies(df[\"Weekday\"], drop_first=True))\n",
    "    return df"
   ]
  },
  {
   "cell_type": "code",
   "execution_count": 224,
   "metadata": {},
   "outputs": [],
   "source": [
    "def create_time_bins(dfDt):\n",
    "    df[\"am_pm\"] = df[\"Date\"].apply(lambda d: d.split(\" \")[2].strip(\" \")).apply(lambda d: 1 if d == \"AM\" else 0)\n",
    "    df[\"hour\"] = df[\"Date\"].apply(lambda d: d.split(\" \")[1].split(\":\")[0])\n",
    "    df[\"24_h\"] = df.apply(lambda row: int(row[\"hour\"]) if row[\"am_pm\"] == 1 else int(row[\"hour\"]) + 12, axis=1)\n",
    "    df = df.join(pd.get_dummies(df[\"24_h\"], drop_first=True, prefix=\"_h\"))\n",
    "    return df"
   ]
  },
  {
   "cell_type": "code",
   "execution_count": 233,
   "metadata": {},
   "outputs": [],
   "source": [
    "def create_description_bins(df):\n",
    "    value_list = df[\"Location Description\"].value_counts()[:25].index.tolist()\n",
    "    df[\"Location Decsription\"] = train.apply(lambda row: row[\"Location Description\"] if row[\"Location Description\"] in (value_list) else \"OTHER\", axis=1)\n",
    "    df = df.join(pd.get_dummies(train[\"Location Description\"], drop_first=True, prefix=\"_type\"))\n",
    "    return df"
   ]
  },
  {
   "cell_type": "code",
   "execution_count": 229,
   "metadata": {},
   "outputs": [],
   "source": [
    "def create_beat_bins(df):\n",
    "    df = df.join(pd.get_dummies(pd.qcut(df['Beat'], 30, labels=range(1,31)), drop_first=True, prefix='_beat'))\n",
    "    return df"
   ]
  },
  {
   "cell_type": "code",
   "execution_count": 237,
   "metadata": {},
   "outputs": [],
   "source": [
    "def change_cols_to_binary(df, cols):\n",
    "    for col in cols:\n",
    "        df[col] = df[col].astype(int)\n",
    "    return df"
   ]
  },
  {
   "cell_type": "code",
   "execution_count": 256,
   "metadata": {},
   "outputs": [],
   "source": [
    "def drop_columns(df):\n",
    "    to_drop = [\"ID\", \"am_pm\", \"hour\", \"24_h\", \"Beat\", \n",
    "               \"Location Description\", \"Weekday\", \"Date\", \n",
    "               \"Year\", \"Updated On\", \"Block\", \"District\", \n",
    "               \"Ward\", \"Community Area\", \"X Coordinate\", \n",
    "               \"Y Coordinate\", \"Latitude\", \"Longitude\",\n",
    "              \"Case Number\", \"IUCR\",\"FBI Code\", \n",
    "               \"Description\", \"Location\"]\n",
    "    df.drop(to_drop, axis=1, inplace=True)\n",
    "    return df"
   ]
  },
  {
   "cell_type": "code",
   "execution_count": 261,
   "metadata": {},
   "outputs": [],
   "source": [
    "train_1 = run_preprocess(train)\n"
   ]
  },
  {
   "cell_type": "markdown",
   "metadata": {},
   "source": [
    "## BASELINE\n"
   ]
  },
  {
   "cell_type": "code",
   "execution_count": 265,
   "metadata": {},
   "outputs": [],
   "source": [
    "train = pd.read_csv(\"train.csv\")\n",
    "val = pd.read_csv(\"validation.csv\")\n",
    "test = pd.read_csv(\"test.csv\")"
   ]
  },
  {
   "cell_type": "code",
   "execution_count": null,
   "metadata": {},
   "outputs": [],
   "source": []
  }
 ],
 "metadata": {
  "kernelspec": {
   "display_name": "Python 3",
   "language": "python",
   "name": "python3"
  },
  "language_info": {
   "codemirror_mode": {
    "name": "ipython",
    "version": 3
   },
   "file_extension": ".py",
   "mimetype": "text/x-python",
   "name": "python",
   "nbconvert_exporter": "python",
   "pygments_lexer": "ipython3",
   "version": "3.8.5"
  }
 },
 "nbformat": 4,
 "nbformat_minor": 4
}
